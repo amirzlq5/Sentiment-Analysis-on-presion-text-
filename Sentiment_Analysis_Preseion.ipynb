{
  "nbformat": 4,
  "nbformat_minor": 0,
  "metadata": {
    "colab": {
      "name": "Sentiment_Analysis_Preseion.ipynb",
      "provenance": [],
      "collapsed_sections": [],
      "machine_shape": "hm"
    },
    "kernelspec": {
      "name": "python3",
      "display_name": "Python 3"
    },
    "accelerator": "GPU"
  },
  "cells": [
    {
      "cell_type": "code",
      "metadata": {
        "id": "qGqa3kUN7iEX",
        "colab_type": "code",
        "colab": {}
      },
      "source": [
        "!pip install -U -q PyDrive\n",
        "from pydrive.auth import GoogleAuth\n",
        "from pydrive.drive import GoogleDrive\n",
        "from google.colab import auth\n",
        "from oauth2client.client import GoogleCredentials"
      ],
      "execution_count": 0,
      "outputs": []
    },
    {
      "cell_type": "code",
      "metadata": {
        "id": "TalUMES_7pOa",
        "colab_type": "code",
        "colab": {}
      },
      "source": [
        "# Authenticate and create the PyDrive client.\n",
        "auth.authenticate_user()\n",
        "gauth = GoogleAuth()\n",
        "gauth.credentials = GoogleCredentials.get_application_default()\n",
        "drive = GoogleDrive(gauth)"
      ],
      "execution_count": 0,
      "outputs": []
    },
    {
      "cell_type": "code",
      "metadata": {
        "id": "DDyzk8gY7vXl",
        "colab_type": "code",
        "colab": {}
      },
      "source": [
        "link1 = 'https://drive.google.com/open?id=1ubYms7QLU3BgS0emBy5Zz-GX-_mBX5e1'# dataset >>fa_2.csv\n",
        "link2 = 'https://drive.google.com/open?id=1XS_vCvjPH9JG_FdcH8i9INw_7GwAJhf7' # Word Embeding >> cc.fa.300.vec"
      ],
      "execution_count": 0,
      "outputs": []
    },
    {
      "cell_type": "code",
      "metadata": {
        "id": "DD6z7I6R82hf",
        "colab_type": "code",
        "outputId": "f280880a-86d6-402b-f087-11932ddbf11f",
        "colab": {
          "base_uri": "https://localhost:8080/",
          "height": 35
        }
      },
      "source": [
        "fluff, id1 = link1.split('=')\n",
        "print (id1) "
      ],
      "execution_count": 4,
      "outputs": [
        {
          "output_type": "stream",
          "text": [
            "1ubYms7QLU3BgS0emBy5Zz-GX-_mBX5e1\n"
          ],
          "name": "stdout"
        }
      ]
    },
    {
      "cell_type": "code",
      "metadata": {
        "id": "PMKVyOrn9UHd",
        "colab_type": "code",
        "outputId": "de32b68e-2935-4ab3-e554-96eeb70f567a",
        "colab": {
          "base_uri": "https://localhost:8080/",
          "height": 35
        }
      },
      "source": [
        "fluff, id2 = link2.split('=')\n",
        "print (id2) "
      ],
      "execution_count": 5,
      "outputs": [
        {
          "output_type": "stream",
          "text": [
            "1XS_vCvjPH9JG_FdcH8i9INw_7GwAJhf7\n"
          ],
          "name": "stdout"
        }
      ]
    },
    {
      "cell_type": "code",
      "metadata": {
        "id": "p63zwtFh9Y-W",
        "colab_type": "code",
        "colab": {}
      },
      "source": [
        "import pandas as pd"
      ],
      "execution_count": 0,
      "outputs": []
    },
    {
      "cell_type": "code",
      "metadata": {
        "id": "Xt5iq2PG9cpe",
        "colab_type": "code",
        "colab": {}
      },
      "source": [
        "downloaded = drive.CreateFile({'id':id1}) \n",
        "downloaded.GetContentFile('fa_2.csv')  \n",
        "dataset = pd.read_csv('fa_2.csv',index_col=None, header=None, encoding=\"utf-8\",names = \"text,label\".split(','))# Dataset is now stored in a Pandas Dataframe"
      ],
      "execution_count": 0,
      "outputs": []
    },
    {
      "cell_type": "code",
      "metadata": {
        "id": "XVc8m4sN9wLD",
        "colab_type": "code",
        "outputId": "d7e10771-8ebb-4bea-d6e6-611111d0c432",
        "colab": {
          "base_uri": "https://localhost:8080/",
          "height": 363
        }
      },
      "source": [
        "dataset.head(10)"
      ],
      "execution_count": 9,
      "outputs": [
        {
          "output_type": "execute_result",
          "data": {
            "text/html": [
              "<div>\n",
              "<style scoped>\n",
              "    .dataframe tbody tr th:only-of-type {\n",
              "        vertical-align: middle;\n",
              "    }\n",
              "\n",
              "    .dataframe tbody tr th {\n",
              "        vertical-align: top;\n",
              "    }\n",
              "\n",
              "    .dataframe thead th {\n",
              "        text-align: right;\n",
              "    }\n",
              "</style>\n",
              "<table border=\"1\" class=\"dataframe\">\n",
              "  <thead>\n",
              "    <tr style=\"text-align: right;\">\n",
              "      <th></th>\n",
              "      <th>text</th>\n",
              "      <th>label</th>\n",
              "    </tr>\n",
              "  </thead>\n",
              "  <tbody>\n",
              "    <tr>\n",
              "      <th>0</th>\n",
              "      <td>دوست عزیز یک چیزهایی به عقیده ربطی نداره همه م...</td>\n",
              "      <td>pos</td>\n",
              "    </tr>\n",
              "    <tr>\n",
              "      <th>1</th>\n",
              "      <td>فتح هندباعث سرافرازی نبود؛برای من دستگیری متجا...</td>\n",
              "      <td>neg</td>\n",
              "    </tr>\n",
              "    <tr>\n",
              "      <th>2</th>\n",
              "      <td>بدی توییتر تا اینجا که فهمیدم اینه خیلی ها تو ...</td>\n",
              "      <td>neg</td>\n",
              "    </tr>\n",
              "    <tr>\n",
              "      <th>3</th>\n",
              "      <td>والا همین بچه های صنعتی دقیقا یکسال پیش برای ح...</td>\n",
              "      <td>pos</td>\n",
              "    </tr>\n",
              "    <tr>\n",
              "      <th>4</th>\n",
              "      <td>یه هشتک #جنگ_نمیشود_مذاکره_نمیکنیم هم میزدی دس...</td>\n",
              "      <td>neg</td>\n",
              "    </tr>\n",
              "    <tr>\n",
              "      <th>5</th>\n",
              "      <td>واقعا نمیتونم بفهممشون اینا الان حرفشون اینه ک...</td>\n",
              "      <td>neg</td>\n",
              "    </tr>\n",
              "    <tr>\n",
              "      <th>6</th>\n",
              "      <td>واسه ما معمولیا شب یلدامون فرقی باشبای دیگه ند...</td>\n",
              "      <td>neg</td>\n",
              "    </tr>\n",
              "    <tr>\n",
              "      <th>7</th>\n",
              "      <td>\"گشنگان بدبخت افطاری نخورده رو ببینین. کسانی ک...</td>\n",
              "      <td>neg</td>\n",
              "    </tr>\n",
              "    <tr>\n",
              "      <th>8</th>\n",
              "      <td>مخاطبین @SalomeSeyednia کم سن وسال و کسانی که ...</td>\n",
              "      <td>neg</td>\n",
              "    </tr>\n",
              "    <tr>\n",
              "      <th>9</th>\n",
              "      <td>خدا منم، عید منم، حال خوب منم #کارنت_ مود</td>\n",
              "      <td>pos</td>\n",
              "    </tr>\n",
              "  </tbody>\n",
              "</table>\n",
              "</div>"
            ],
            "text/plain": [
              "                                                text label\n",
              "0  دوست عزیز یک چیزهایی به عقیده ربطی نداره همه م...   pos\n",
              "1  فتح هندباعث سرافرازی نبود؛برای من دستگیری متجا...   neg\n",
              "2  بدی توییتر تا اینجا که فهمیدم اینه خیلی ها تو ...   neg\n",
              "3  والا همین بچه های صنعتی دقیقا یکسال پیش برای ح...   pos\n",
              "4  یه هشتک #جنگ_نمیشود_مذاکره_نمیکنیم هم میزدی دس...   neg\n",
              "5  واقعا نمیتونم بفهممشون اینا الان حرفشون اینه ک...   neg\n",
              "6  واسه ما معمولیا شب یلدامون فرقی باشبای دیگه ند...   neg\n",
              "7  \"گشنگان بدبخت افطاری نخورده رو ببینین. کسانی ک...   neg\n",
              "8  مخاطبین @SalomeSeyednia کم سن وسال و کسانی که ...   neg\n",
              "9          خدا منم، عید منم، حال خوب منم #کارنت_ مود   pos"
            ]
          },
          "metadata": {
            "tags": []
          },
          "execution_count": 9
        }
      ]
    },
    {
      "cell_type": "code",
      "metadata": {
        "id": "WtDSJivi9xo2",
        "colab_type": "code",
        "colab": {}
      },
      "source": [
        "# use fasttest for embedding\n",
        "downloaded = drive.CreateFile({'id':id2}) \n",
        "downloaded.GetContentFile('cc.fa.300.vec')  \n",
        "EMBEDDING_FILE = 'cc.fa.300.vec' # Word Embedding fast text"
      ],
      "execution_count": 0,
      "outputs": []
    },
    {
      "cell_type": "markdown",
      "metadata": {
        "id": "skb5z84wB8PZ",
        "colab_type": "text"
      },
      "source": [
        "**befor install libraray**"
      ]
    },
    {
      "cell_type": "code",
      "metadata": {
        "id": "qJtyYHAPBlaV",
        "colab_type": "code",
        "outputId": "669b0814-5531-4936-fdd7-2a61d5893b5e",
        "colab": {
          "base_uri": "https://localhost:8080/",
          "height": 536
        }
      },
      "source": [
        "!pip install hazm\n",
        "!pip install stopwords_guilannlp  #for delete stop words . filter useless data"
      ],
      "execution_count": 11,
      "outputs": [
        {
          "output_type": "stream",
          "text": [
            "Collecting hazm\n",
            "\u001b[?25l  Downloading https://files.pythonhosted.org/packages/22/13/5a7074bc11d20dbbb46239349ac3f85f7edc148b4cf68e9b8c2f8263830c/hazm-0.7.0-py3-none-any.whl (316kB)\n",
            "\u001b[K     |████████████████████████████████| 317kB 5.0MB/s \n",
            "\u001b[?25hCollecting libwapiti>=0.2.1; platform_system != \"Windows\"\n",
            "\u001b[?25l  Downloading https://files.pythonhosted.org/packages/bc/0f/1c9b49bb49821b5856a64ea6fac8d96a619b9f291d1f06999ea98a32c89c/libwapiti-0.2.1.tar.gz (233kB)\n",
            "\u001b[K     |████████████████████████████████| 235kB 16.1MB/s \n",
            "\u001b[?25hCollecting nltk==3.3\n",
            "\u001b[?25l  Downloading https://files.pythonhosted.org/packages/50/09/3b1755d528ad9156ee7243d52aa5cd2b809ef053a0f31b53d92853dd653a/nltk-3.3.0.zip (1.4MB)\n",
            "\u001b[K     |████████████████████████████████| 1.4MB 20.2MB/s \n",
            "\u001b[?25hRequirement already satisfied: six in /usr/local/lib/python3.6/dist-packages (from libwapiti>=0.2.1; platform_system != \"Windows\"->hazm) (1.12.0)\n",
            "Building wheels for collected packages: libwapiti, nltk\n",
            "  Building wheel for libwapiti (setup.py) ... \u001b[?25l\u001b[?25hdone\n",
            "  Created wheel for libwapiti: filename=libwapiti-0.2.1-cp36-cp36m-linux_x86_64.whl size=154491 sha256=0930f0db8b24384c8e8cc2f9db03d3c5c4e06d1ddfb7bedf940e227991a4752d\n",
            "  Stored in directory: /root/.cache/pip/wheels/66/15/54/4510dce8bb958b1cdd2c47425cbd1e1eecc0480ac9bb1fb9ab\n",
            "  Building wheel for nltk (setup.py) ... \u001b[?25l\u001b[?25hdone\n",
            "  Created wheel for nltk: filename=nltk-3.3-cp36-none-any.whl size=1394471 sha256=acf64a47663f7f89d887a26dbee183fa5caaa91e963ecc6be69907d09d770b22\n",
            "  Stored in directory: /root/.cache/pip/wheels/d1/ab/40/3bceea46922767e42986aef7606a600538ca80de6062dc266c\n",
            "Successfully built libwapiti nltk\n",
            "Installing collected packages: libwapiti, nltk, hazm\n",
            "  Found existing installation: nltk 3.2.5\n",
            "    Uninstalling nltk-3.2.5:\n",
            "      Successfully uninstalled nltk-3.2.5\n",
            "Successfully installed hazm-0.7.0 libwapiti-0.2.1 nltk-3.3\n",
            "Collecting stopwords_guilannlp\n",
            "  Downloading https://files.pythonhosted.org/packages/44/bc/a01c003b59a91187e89d11e73e8bb2834bb9ae6b36fe576a4b617c90bd23/stopwords_guilannlp-13.2019.3.5-py3-none-any.whl\n",
            "Installing collected packages: stopwords-guilannlp\n",
            "Successfully installed stopwords-guilannlp-13.2019.3.5\n"
          ],
          "name": "stdout"
        }
      ]
    },
    {
      "cell_type": "markdown",
      "metadata": {
        "id": "LyUI84nRBUdV",
        "colab_type": "text"
      },
      "source": [
        "**import library**"
      ]
    },
    {
      "cell_type": "code",
      "metadata": {
        "id": "FzNrYLOhBZYk",
        "colab_type": "code",
        "outputId": "326ac71b-226c-466d-cc86-0f4bcf93c549",
        "colab": {
          "base_uri": "https://localhost:8080/",
          "height": 83
        }
      },
      "source": [
        "# General\n",
        "import numpy as np\n",
        "import pandas as pd\n",
        "import codecs\n",
        "import os\n",
        "import matplotlib.pyplot as plt\n",
        "# Word Embedding\n",
        "from gensim.test.utils import common_texts\n",
        "from gensim.models import KeyedVectors\n",
        "# Keras\n",
        "from keras import optimizers\n",
        "from keras.models import Model, Sequential\n",
        "from keras.layers import Dense, Input, Embedding, Dropout\n",
        "from keras.layers import GlobalMaxPool1D, MaxPooling1D, GlobalMaxPooling1D\n",
        "from keras.layers import CuDNNLSTM, LSTM, Bidirectional\n",
        "from keras.layers.convolutional import Conv1D\n",
        "from keras.utils.np_utils import to_categorical\n",
        "from keras.metrics import categorical_accuracy\n",
        "from keras.utils import plot_model\n",
        "from keras.preprocessing.text import Tokenizer\n",
        "from keras.preprocessing.sequence import pad_sequences\n",
        "# Preprocessing\n",
        "from stopwords_guilannlp import stopwords_output\n",
        "from hazm import *\n",
        "# Visualization\n",
        "%matplotlib inline\n",
        "import matplotlib.pyplot as plt\n",
        "from keras.utils import plot_model\n",
        "# Measuring metrics\n",
        "from sklearn.metrics import f1_score\n",
        "# test and train split\n",
        "from sklearn.model_selection import train_test_split\n",
        "#save model\n",
        "from keras.models import load_model"
      ],
      "execution_count": 12,
      "outputs": [
        {
          "output_type": "stream",
          "text": [
            "Using TensorFlow backend.\n"
          ],
          "name": "stderr"
        },
        {
          "output_type": "display_data",
          "data": {
            "text/html": [
              "<p style=\"color: red;\">\n",
              "The default version of TensorFlow in Colab will soon switch to TensorFlow 2.x.<br>\n",
              "We recommend you <a href=\"https://www.tensorflow.org/guide/migrate\" target=\"_blank\">upgrade</a> now \n",
              "or ensure your notebook will continue to use TensorFlow 1.x via the <code>%tensorflow_version 1.x</code> magic:\n",
              "<a href=\"https://colab.research.google.com/notebooks/tensorflow_version.ipynb\" target=\"_blank\">more info</a>.</p>\n"
            ],
            "text/plain": [
              "<IPython.core.display.HTML object>"
            ]
          },
          "metadata": {
            "tags": []
          }
        }
      ]
    },
    {
      "cell_type": "markdown",
      "metadata": {
        "id": "oRaTlSS9CmXu",
        "colab_type": "text"
      },
      "source": [
        "**Analyze Dataset**"
      ]
    },
    {
      "cell_type": "code",
      "metadata": {
        "id": "EAMiWIXyBgRs",
        "colab_type": "code",
        "colab": {}
      },
      "source": [
        "X = dataset['text']\n",
        "Y = dataset['label']"
      ],
      "execution_count": 0,
      "outputs": []
    },
    {
      "cell_type": "code",
      "metadata": {
        "id": "Me3w0dgRCZlH",
        "colab_type": "code",
        "outputId": "88dddcbc-2056-41bd-b12c-3296fd89ab4d",
        "colab": {
          "base_uri": "https://localhost:8080/",
          "height": 54
        }
      },
      "source": [
        "print('Number of Dataset sentence' , X.shape)\n",
        "print('Number of Dataset labels' , Y.shape)"
      ],
      "execution_count": 14,
      "outputs": [
        {
          "output_type": "stream",
          "text": [
            "Number of Dataset sentence (5000,)\n",
            "Number of Dataset labels (5000,)\n"
          ],
          "name": "stdout"
        }
      ]
    },
    {
      "cell_type": "code",
      "metadata": {
        "id": "bKrts2WbC1S3",
        "colab_type": "code",
        "colab": {}
      },
      "source": [
        "x_train, x_test, y_train, y_test = train_test_split(X, Y, test_size=0.05, random_state=42)"
      ],
      "execution_count": 0,
      "outputs": []
    },
    {
      "cell_type": "code",
      "metadata": {
        "id": "mvRUO0HUDQVB",
        "colab_type": "code",
        "outputId": "259b9177-63a5-42e3-d931-9e0774adb9d5",
        "colab": {
          "base_uri": "https://localhost:8080/",
          "height": 91
        }
      },
      "source": [
        "print('Number of x_train sentence after train and test split' , x_train.shape)\n",
        "print('Number of y_train labels after train and test split' , y_train.shape)\n",
        "\n",
        "print('Number of x_test sentence after train and test split' , x_test.shape)\n",
        "print('Number of y_test labels after train and test split' , y_test.shape)"
      ],
      "execution_count": 16,
      "outputs": [
        {
          "output_type": "stream",
          "text": [
            "Number of x_train sentence after train and test split (4750,)\n",
            "Number of y_train labels after train and test split (4750,)\n",
            "Number of x_test sentence after train and test split (250,)\n",
            "Number of y_test labels after train and test split (250,)\n"
          ],
          "name": "stdout"
        }
      ]
    },
    {
      "cell_type": "code",
      "metadata": {
        "id": "nKIiXh_zDVg_",
        "colab_type": "code",
        "colab": {}
      },
      "source": [
        "# Convert dataframes to numpy arrays\n",
        "x_train = np.asarray(x_train)\n",
        "y_train = np.asarray(y_train)\n",
        "\n",
        "x_test = np.asarray(x_test)\n",
        "y_test = np.asarray(y_test)\n"
      ],
      "execution_count": 0,
      "outputs": []
    },
    {
      "cell_type": "code",
      "metadata": {
        "id": "pZgYax-XDZD_",
        "colab_type": "code",
        "outputId": "63395e89-fd2e-438b-c893-563438402488",
        "colab": {
          "base_uri": "https://localhost:8080/",
          "height": 35
        }
      },
      "source": [
        "from collections import Counter\n",
        "\n",
        "cnt = Counter(Y)\n",
        "cnt = dict(cnt)\n",
        "print(cnt)"
      ],
      "execution_count": 18,
      "outputs": [
        {
          "output_type": "stream",
          "text": [
            "{'pos': 1619, 'neg': 3070, 'med': 311}\n"
          ],
          "name": "stdout"
        }
      ]
    },
    {
      "cell_type": "code",
      "metadata": {
        "id": "jtAyP2deDdB1",
        "colab_type": "code",
        "outputId": "e421ba54-9e30-4255-c420-f38e1e73b828",
        "colab": {
          "base_uri": "https://localhost:8080/",
          "height": 279
        }
      },
      "source": [
        "import seaborn as sns\n",
        "sns.countplot(x='label', data=dataset);"
      ],
      "execution_count": 19,
      "outputs": [
        {
          "output_type": "display_data",
          "data": {
            "image/png": "[encoded data removed]",
            "text/plain": [
              "<Figure size 432x288 with 1 Axes>"
            ]
          },
          "metadata": {
            "tags": []
          }
        }
      ]
    },
    {
      "cell_type": "code",
      "metadata": {
        "id": "np1DA0ccET22",
        "colab_type": "code",
        "outputId": "54c88470-ac9c-4f4b-d0ac-935357310a16",
        "colab": {
          "base_uri": "https://localhost:8080/",
          "height": 298
        }
      },
      "source": [
        "labels = list(cnt.keys())\n",
        "sizes = list(cnt.values())\n",
        "colors = ['#3fba36', '#66b3ff','#ffcc99','#ff9999', '#d44444']\n",
        "fig1, ax1 = plt.subplots()\n",
        "ax1.pie(sizes, labels=labels, colors=colors,\n",
        "        autopct='%1.1f%%', startangle=90)\n",
        "#draw circle\n",
        "centre_circle = plt.Circle((0,0),0.70,fc='white')\n",
        "fig = plt.gcf()\n",
        "fig.gca().add_artist(centre_circle)\n",
        "ax1.axis('equal')  \n",
        "plt.tight_layout()\n",
        "plt.show()"
      ],
      "execution_count": 20,
      "outputs": [
        {
          "output_type": "display_data",
          "data": {
            "image/png": "[encoded data removed]",
            "text/plain": [
              "<Figure size 432x288 with 1 Axes>"
            ]
          },
          "metadata": {
            "tags": []
          }
        }
      ]
    },
    {
      "cell_type": "code",
      "metadata": {
        "id": "EwwPyxwkEZEa",
        "colab_type": "code",
        "colab": {}
      },
      "source": [
        "puncs = ['،', '.', ',', ':', ';', '\"']\n",
        "normalizer = Normalizer()\n",
        "lemmatizer = Lemmatizer()\n",
        "\n",
        "\n",
        "def clean_doc(doc):\n",
        "    doc = normalizer.normalize(doc) \n",
        "    tokenized = word_tokenize(doc) \n",
        "    tokens = []\n",
        "    for t in tokenized:\n",
        "      temp = t\n",
        "      for p in puncs:\n",
        "        temp = temp.replace(p, '')\n",
        "      tokens.append(temp)\n",
        "    \n",
        "    tokens = [w for w in tokens if not len(w) <= 1]\n",
        "    tokens = [w for w in tokens if not w.isdigit()]\n",
        "    tokens = [lemmatizer.lemmatize(w) for w in tokens]\n",
        "    tokens = ' '.join(tokens)\n",
        "    return tokens"
      ],
      "execution_count": 0,
      "outputs": []
    },
    {
      "cell_type": "code",
      "metadata": {
        "id": "dCSGqEw3FPiz",
        "colab_type": "code",
        "outputId": "ee6a5666-cdd1-4940-8fea-82e151358724",
        "colab": {
          "base_uri": "https://localhost:8080/",
          "height": 74
        }
      },
      "source": [
        "def import_with_gensim(file_address):\n",
        "  ft_model = KeyedVectors.load_word2vec_format(file_address)\n",
        "  ft_words = []\n",
        "  for ft_word in ft_model.vocab:\n",
        "      ft_words.append(ft_word)\n",
        "  return ft_model, ft_words\n",
        "  \n",
        "ft_model, ft_words = import_with_gensim(EMBEDDING_FILE)"
      ],
      "execution_count": 22,
      "outputs": [
        {
          "output_type": "stream",
          "text": [
            "/usr/local/lib/python3.6/dist-packages/smart_open/smart_open_lib.py:410: UserWarning: This function is deprecated, use smart_open.open instead. See the migration notes for details: https://github.com/RaRe-Technologies/smart_open/blob/master/README.rst#migrating-to-the-new-open-function\n",
            "  'See the migration notes for details: %s' % _MIGRATION_NOTES_URL\n"
          ],
          "name": "stderr"
        }
      ]
    },
    {
      "cell_type": "code",
      "metadata": {
        "id": "2tV_Ez8EElSA",
        "colab_type": "code",
        "colab": {}
      },
      "source": [
        "# FastText embed size\n",
        "embed_size = 300 # defult"
      ],
      "execution_count": 0,
      "outputs": []
    },
    {
      "cell_type": "code",
      "metadata": {
        "id": "888HxaUFHZ5J",
        "colab_type": "code",
        "colab": {}
      },
      "source": [
        "embedding_list = list()\n",
        "for w in ft_words:\n",
        "  embedding_list.append(ft_model[w])\n",
        "\n",
        "all_embedding = np.stack(embedding_list)\n",
        "emb_mean, emb_std = all_embedding.mean(), all_embedding.std()"
      ],
      "execution_count": 0,
      "outputs": []
    },
    {
      "cell_type": "code",
      "metadata": {
        "id": "X4bkAcjPHc9T",
        "colab_type": "code",
        "colab": {}
      },
      "source": [
        "# Apply preprocessing on training data\n",
        "train_docs = np.empty_like(x_train)\n",
        "for index, document in enumerate(x_train):\n",
        "  train_docs[index] = clean_doc(document)"
      ],
      "execution_count": 0,
      "outputs": []
    },
    {
      "cell_type": "code",
      "metadata": {
        "id": "_e-8m_ISHi_Z",
        "colab_type": "code",
        "colab": {}
      },
      "source": [
        "# Applying preprocessing on test data\n",
        "test_docs = np.empty_like(x_test)\n",
        "for index, document in enumerate(x_test):\n",
        "  test_docs[index] = clean_doc(document)"
      ],
      "execution_count": 0,
      "outputs": []
    },
    {
      "cell_type": "code",
      "metadata": {
        "id": "Lq9hhLyoMhfB",
        "colab_type": "code",
        "colab": {}
      },
      "source": [
        "num_words = 2000\n",
        "# Create the tokenizer\n",
        "tokenizer = Tokenizer(num_words=num_words)\n",
        "# fFt the tokenizer on the training documents\n",
        "tokenizer.fit_on_texts(train_docs)"
      ],
      "execution_count": 0,
      "outputs": []
    },
    {
      "cell_type": "code",
      "metadata": {
        "id": "XvOCnwwUMk0y",
        "colab_type": "code",
        "colab": {}
      },
      "source": [
        "# Find maximum length of training sentences\n",
        "max_length = max([len(s.split()) for s in train_docs])"
      ],
      "execution_count": 0,
      "outputs": []
    },
    {
      "cell_type": "code",
      "metadata": {
        "id": "IIsQoES-Mnw3",
        "colab_type": "code",
        "outputId": "511a9fa8-892a-4951-bfe3-06237adbf65a",
        "colab": {
          "base_uri": "https://localhost:8080/",
          "height": 35
        }
      },
      "source": [
        "max_length"
      ],
      "execution_count": 29,
      "outputs": [
        {
          "output_type": "execute_result",
          "data": {
            "text/plain": [
              "109"
            ]
          },
          "metadata": {
            "tags": []
          },
          "execution_count": 29
        }
      ]
    },
    {
      "cell_type": "code",
      "metadata": {
        "id": "fEj2kuL_Mppd",
        "colab_type": "code",
        "colab": {}
      },
      "source": [
        "# Embed training sequences\n",
        "encoded_docs = tokenizer.texts_to_sequences(train_docs)\n",
        "\n",
        "# Pad embeded training sequences\n",
        "x_train_padded = pad_sequences(encoded_docs, maxlen=max_length, padding='post')"
      ],
      "execution_count": 0,
      "outputs": []
    },
    {
      "cell_type": "code",
      "metadata": {
        "id": "qRlll2sEMsB9",
        "colab_type": "code",
        "colab": {}
      },
      "source": [
        "# Define vocabulary size (largest integer value)\n",
        "vocab_size = len(tokenizer.word_index)"
      ],
      "execution_count": 0,
      "outputs": []
    },
    {
      "cell_type": "code",
      "metadata": {
        "id": "2GvEkqJHM0aO",
        "colab_type": "code",
        "outputId": "07ad0f74-cdf3-44c4-f0ac-91291dea24f6",
        "colab": {
          "base_uri": "https://localhost:8080/",
          "height": 35
        }
      },
      "source": [
        "vocab_size"
      ],
      "execution_count": 32,
      "outputs": [
        {
          "output_type": "execute_result",
          "data": {
            "text/plain": [
              "16557"
            ]
          },
          "metadata": {
            "tags": []
          },
          "execution_count": 32
        }
      ]
    },
    {
      "cell_type": "code",
      "metadata": {
        "id": "jGeMjsbTM2Ib",
        "colab_type": "code",
        "outputId": "240de8b8-16ae-4c36-9ab1-113965f63d84",
        "colab": {
          "base_uri": "https://localhost:8080/",
          "height": 35
        }
      },
      "source": [
        "x_train_padded.shape"
      ],
      "execution_count": 33,
      "outputs": [
        {
          "output_type": "execute_result",
          "data": {
            "text/plain": [
              "(4750, 109)"
            ]
          },
          "metadata": {
            "tags": []
          },
          "execution_count": 33
        }
      ]
    },
    {
      "cell_type": "code",
      "metadata": {
        "id": "bTfTFkdPM6Bq",
        "colab_type": "code",
        "outputId": "2fe5647d-6d7d-483b-9a16-9dc3176deb48",
        "colab": {
          "base_uri": "https://localhost:8080/",
          "height": 54
        }
      },
      "source": [
        "# set the embedding size\n",
        "nb_words = len(tokenizer.word_index)\n",
        "\n",
        "# Number of Words in data for seting embedding file\n",
        "embedding_matrix = np.random.normal(emb_mean, emb_std, (nb_words, embed_size))\n",
        "\n",
        "# created embedding matrix\n",
        "# loaded pre-trained embedding\n",
        "embeddedCount = 0\n",
        "for word, i in tokenizer.word_index.items():\n",
        "    i -= 1\n",
        "    # if this word is Fastetext, if yes, get the  embedding vector\n",
        "    if word in ft_model.vocab:\n",
        "        embedding_vector = ft_model[word]\n",
        "        # astore inside the embedding matrix \n",
        "        embedding_matrix[i] = embedding_vector\n",
        "        embeddedCount += 1\n",
        "    #else:   # Unknown words\n",
        "\n",
        "\n",
        "print('total embedded:', embeddedCount, 'common words')\n",
        "print('Embedding matrix shape:', embedding_matrix.shape)"
      ],
      "execution_count": 34,
      "outputs": [
        {
          "output_type": "stream",
          "text": [
            "total embedded: 13963 common words\n",
            "Embedding matrix shape: (16557, 300)\n"
          ],
          "name": "stdout"
        }
      ]
    },
    {
      "cell_type": "code",
      "metadata": {
        "id": "bYJ-QOqnM9mn",
        "colab_type": "code",
        "colab": {}
      },
      "source": [
        "# Embed testing sequences\n",
        "encoded_docs = tokenizer.texts_to_sequences(test_docs)\n",
        "# Pad testing sequences\n",
        "x_test_padded = pad_sequences(encoded_docs, maxlen=max_length, padding='post')"
      ],
      "execution_count": 0,
      "outputs": []
    },
    {
      "cell_type": "code",
      "metadata": {
        "id": "P2KgRykcNBBN",
        "colab_type": "code",
        "outputId": "dd2b5492-e19a-472c-f208-881da816375f",
        "colab": {
          "base_uri": "https://localhost:8080/",
          "height": 35
        }
      },
      "source": [
        "y_train"
      ],
      "execution_count": 36,
      "outputs": [
        {
          "output_type": "execute_result",
          "data": {
            "text/plain": [
              "array(['pos', 'neg', 'neg', ..., 'neg', 'pos', 'pos'], dtype=object)"
            ]
          },
          "metadata": {
            "tags": []
          },
          "execution_count": 36
        }
      ]
    },
    {
      "cell_type": "code",
      "metadata": {
        "id": "2vCK3TS6NEOs",
        "colab_type": "code",
        "colab": {}
      },
      "source": [
        "from sklearn import preprocessing\n",
        "\n",
        "label_encoder = preprocessing.LabelEncoder()\n",
        "\n",
        "# Encode labels in column \n",
        "y_train = label_encoder.fit_transform(y_train)\n",
        "y_test = label_encoder.fit_transform(y_test)"
      ],
      "execution_count": 0,
      "outputs": []
    },
    {
      "cell_type": "code",
      "metadata": {
        "id": "tFc6S7jKNI1E",
        "colab_type": "code",
        "outputId": "db34a68b-c28d-4e26-bfae-5ac20cb3b78d",
        "colab": {
          "base_uri": "https://localhost:8080/",
          "height": 54
        }
      },
      "source": [
        "print(y_train[:5])\n",
        "print(y_test[:5])"
      ],
      "execution_count": 38,
      "outputs": [
        {
          "output_type": "stream",
          "text": [
            "[2 1 1 1 1]\n",
            "[2 1 0 1 2]\n"
          ],
          "name": "stdout"
        }
      ]
    },
    {
      "cell_type": "code",
      "metadata": {
        "id": "7aJLlgCqNLpR",
        "colab_type": "code",
        "colab": {}
      },
      "source": [
        "# Prepare labels for categorical prediction\n",
        "categorical_y_train = to_categorical(y_train,3 )\n",
        "categorical_y_test = to_categorical(y_test,3)\n"
      ],
      "execution_count": 0,
      "outputs": []
    },
    {
      "cell_type": "code",
      "metadata": {
        "id": "fAn97gbINhHo",
        "colab_type": "code",
        "outputId": "30a4224f-7428-4c9b-e092-f9a6ffd4cfa3",
        "colab": {
          "base_uri": "https://localhost:8080/",
          "height": 202
        }
      },
      "source": [
        "# [med,neg,pos]\n",
        "print(categorical_y_train[0:5])\n",
        "print(categorical_y_test[0:5])"
      ],
      "execution_count": 40,
      "outputs": [
        {
          "output_type": "stream",
          "text": [
            "[[0. 0. 1.]\n",
            " [0. 1. 0.]\n",
            " [0. 1. 0.]\n",
            " [0. 1. 0.]\n",
            " [0. 1. 0.]]\n",
            "[[0. 0. 1.]\n",
            " [0. 1. 0.]\n",
            " [1. 0. 0.]\n",
            " [0. 1. 0.]\n",
            " [0. 0. 1.]]\n"
          ],
          "name": "stdout"
        }
      ]
    },
    {
      "cell_type": "code",
      "metadata": {
        "id": "G_Tr2x_3NqNO",
        "colab_type": "code",
        "outputId": "11590360-48c6-4c68-e235-ff5f561cd369",
        "colab": {
          "base_uri": "https://localhost:8080/",
          "height": 462
        }
      },
      "source": [
        "import tensorflow as tf\n",
        "from tensorflow import keras\n",
        "#kernel_regularizer=keras.regularizers.l2(l=0.1)\n",
        "model_blstm = Sequential()\n",
        "model_blstm.add(Embedding(vocab_size, 300 ,weights=[embedding_matrix], input_length=max_length))\n",
        "model_blstm.add(Bidirectional(CuDNNLSTM(300, return_sequences=True, name='lstm_layer')))\n",
        "model_blstm.add(GlobalMaxPool1D())\n",
        "model_blstm.add(Dropout(0.05))\n",
        "model_blstm.add(Dense(300, activation=\"relu\"))\n",
        "model_blstm.add(Dropout(0.05))\n",
        "model_blstm.add(Dense(3, activation='softmax' ))"
      ],
      "execution_count": 41,
      "outputs": [
        {
          "output_type": "stream",
          "text": [
            "WARNING:tensorflow:From /usr/local/lib/python3.6/dist-packages/keras/backend/tensorflow_backend.py:66: The name tf.get_default_graph is deprecated. Please use tf.compat.v1.get_default_graph instead.\n",
            "\n",
            "WARNING:tensorflow:From /usr/local/lib/python3.6/dist-packages/keras/backend/tensorflow_backend.py:541: The name tf.placeholder is deprecated. Please use tf.compat.v1.placeholder instead.\n",
            "\n",
            "WARNING:tensorflow:From /usr/local/lib/python3.6/dist-packages/keras/backend/tensorflow_backend.py:4432: The name tf.random_uniform is deprecated. Please use tf.random.uniform instead.\n",
            "\n",
            "WARNING:tensorflow:From /usr/local/lib/python3.6/dist-packages/keras/backend/tensorflow_backend.py:190: The name tf.get_default_session is deprecated. Please use tf.compat.v1.get_default_session instead.\n",
            "\n",
            "WARNING:tensorflow:From /usr/local/lib/python3.6/dist-packages/keras/backend/tensorflow_backend.py:197: The name tf.ConfigProto is deprecated. Please use tf.compat.v1.ConfigProto instead.\n",
            "\n",
            "WARNING:tensorflow:From /usr/local/lib/python3.6/dist-packages/keras/backend/tensorflow_backend.py:203: The name tf.Session is deprecated. Please use tf.compat.v1.Session instead.\n",
            "\n",
            "WARNING:tensorflow:From /usr/local/lib/python3.6/dist-packages/keras/backend/tensorflow_backend.py:207: The name tf.global_variables is deprecated. Please use tf.compat.v1.global_variables instead.\n",
            "\n",
            "WARNING:tensorflow:From /usr/local/lib/python3.6/dist-packages/keras/backend/tensorflow_backend.py:216: The name tf.is_variable_initialized is deprecated. Please use tf.compat.v1.is_variable_initialized instead.\n",
            "\n",
            "WARNING:tensorflow:From /usr/local/lib/python3.6/dist-packages/keras/backend/tensorflow_backend.py:223: The name tf.variables_initializer is deprecated. Please use tf.compat.v1.variables_initializer instead.\n",
            "\n",
            "WARNING:tensorflow:From /usr/local/lib/python3.6/dist-packages/keras/backend/tensorflow_backend.py:148: The name tf.placeholder_with_default is deprecated. Please use tf.compat.v1.placeholder_with_default instead.\n",
            "\n",
            "WARNING:tensorflow:From /usr/local/lib/python3.6/dist-packages/keras/backend/tensorflow_backend.py:3733: calling dropout (from tensorflow.python.ops.nn_ops) with keep_prob is deprecated and will be removed in a future version.\n",
            "Instructions for updating:\n",
            "Please use `rate` instead of `keep_prob`. Rate should be set to `rate = 1 - keep_prob`.\n"
          ],
          "name": "stdout"
        }
      ]
    },
    {
      "cell_type": "code",
      "metadata": {
        "id": "fCvkst87Ntv2",
        "colab_type": "code",
        "outputId": "6bf420ab-f977-4bcc-f072-45e8fce03b85",
        "colab": {
          "base_uri": "https://localhost:8080/",
          "height": 518
        }
      },
      "source": [
        "model_blstm.compile(loss='categorical_crossentropy',\n",
        "              optimizer='adam',\n",
        "              metrics=[categorical_accuracy])\n",
        "\n",
        "model_blstm.summary()\n",
        "batch_size_blstm = 4750\n",
        "epochs_blstm = 60"
      ],
      "execution_count": 42,
      "outputs": [
        {
          "output_type": "stream",
          "text": [
            "WARNING:tensorflow:From /usr/local/lib/python3.6/dist-packages/keras/optimizers.py:793: The name tf.train.Optimizer is deprecated. Please use tf.compat.v1.train.Optimizer instead.\n",
            "\n",
            "WARNING:tensorflow:From /usr/local/lib/python3.6/dist-packages/keras/backend/tensorflow_backend.py:3576: The name tf.log is deprecated. Please use tf.math.log instead.\n",
            "\n",
            "Model: \"sequential_1\"\n",
            "_________________________________________________________________\n",
            "Layer (type)                 Output Shape              Param #   \n",
            "=================================================================\n",
            "embedding_1 (Embedding)      (None, 109, 300)          4967100   \n",
            "_________________________________________________________________\n",
            "bidirectional_1 (Bidirection (None, 109, 600)          1444800   \n",
            "_________________________________________________________________\n",
            "global_max_pooling1d_1 (Glob (None, 600)               0         \n",
            "_________________________________________________________________\n",
            "dropout_1 (Dropout)          (None, 600)               0         \n",
            "_________________________________________________________________\n",
            "dense_1 (Dense)              (None, 300)               180300    \n",
            "_________________________________________________________________\n",
            "dropout_2 (Dropout)          (None, 300)               0         \n",
            "_________________________________________________________________\n",
            "dense_2 (Dense)              (None, 3)                 903       \n",
            "=================================================================\n",
            "Total params: 6,593,103\n",
            "Trainable params: 6,593,103\n",
            "Non-trainable params: 0\n",
            "_________________________________________________________________\n"
          ],
          "name": "stdout"
        }
      ]
    },
    {
      "cell_type": "code",
      "metadata": {
        "id": "W-flZMrUwu2a",
        "colab_type": "code",
        "outputId": "3e0f5d09-7312-41d7-984a-93794d5f8102",
        "colab": {
          "base_uri": "https://localhost:8080/",
          "height": 758
        }
      },
      "source": [
        "from keras.utils import plot_model\n",
        "plot_model(model_blstm, to_file='model.png')"
      ],
      "execution_count": 43,
      "outputs": [
        {
          "output_type": "execute_result",
          "data": {
            "image/png": "[encoded data removed]",
            "text/plain": [
              "<IPython.core.display.Image object>"
            ]
          },
          "metadata": {
            "tags": []
          },
          "execution_count": 43
        }
      ]
    },
    {
      "cell_type": "code",
      "metadata": {
        "id": "BEvTGvA4N8_u",
        "colab_type": "code",
        "outputId": "adc5ce36-fea5-45f5-bcdd-3289fbfa8dd9",
        "colab": {
          "base_uri": "https://localhost:8080/",
          "height": 1000
        }
      },
      "source": [
        "if os.path.exists('my_model.h5'):\n",
        "    model = load_model('my_model.h5')\n",
        "    \n",
        "else: \n",
        "    hist_blstm = model_blstm.fit(x_train_padded, categorical_y_train, batch_size=batch_size_blstm, epochs=epochs_blstm, shuffle=True)\n",
        "    #hist_blstm = model_blstm.fit(x_train_padded, categorical_y_train, batch_size=batch_size_blstm, epochs=epochs_blstm, shuffle=True,verbose=1)\n",
        "    model_blstm.save('my_model.h5')  # creates a HDF5 file 'my_model.h5'  \n",
        "    plt.plot(hist_blstm.history['loss'])\n",
        "    plt.xlabel(\"Epochs\")\n",
        "    plt.ylabel(\"Traing Error\")"
      ],
      "execution_count": 44,
      "outputs": [
        {
          "output_type": "stream",
          "text": [
            "WARNING:tensorflow:From /tensorflow-1.15.0/python3.6/tensorflow_core/python/ops/math_grad.py:1424: where (from tensorflow.python.ops.array_ops) is deprecated and will be removed in a future version.\n",
            "Instructions for updating:\n",
            "Use tf.where in 2.0, which has the same broadcast rule as np.where\n",
            "WARNING:tensorflow:From /usr/local/lib/python3.6/dist-packages/keras/backend/tensorflow_backend.py:1033: The name tf.assign_add is deprecated. Please use tf.compat.v1.assign_add instead.\n",
            "\n",
            "WARNING:tensorflow:From /usr/local/lib/python3.6/dist-packages/keras/backend/tensorflow_backend.py:1020: The name tf.assign is deprecated. Please use tf.compat.v1.assign instead.\n",
            "\n",
            "Epoch 1/60\n",
            "4750/4750 [==============================] - 8s 2ms/step - loss: 1.1196 - categorical_accuracy: 0.0987\n",
            "Epoch 2/60\n",
            "4750/4750 [==============================] - 1s 201us/step - loss: 0.9238 - categorical_accuracy: 0.6152\n",
            "Epoch 3/60\n",
            "4750/4750 [==============================] - 1s 199us/step - loss: 0.8653 - categorical_accuracy: 0.6152\n",
            "Epoch 4/60\n",
            "4750/4750 [==============================] - 1s 201us/step - loss: 0.8308 - categorical_accuracy: 0.6152\n",
            "Epoch 5/60\n",
            "4750/4750 [==============================] - 1s 201us/step - loss: 0.8498 - categorical_accuracy: 0.6269\n",
            "Epoch 6/60\n",
            "4750/4750 [==============================] - 1s 201us/step - loss: 0.8329 - categorical_accuracy: 0.6194\n",
            "Epoch 7/60\n",
            "4750/4750 [==============================] - 1s 200us/step - loss: 0.8253 - categorical_accuracy: 0.6152\n",
            "Epoch 8/60\n",
            "4750/4750 [==============================] - 1s 201us/step - loss: 0.8216 - categorical_accuracy: 0.6152\n",
            "Epoch 9/60\n",
            "4750/4750 [==============================] - 1s 200us/step - loss: 0.8116 - categorical_accuracy: 0.6156\n",
            "Epoch 10/60\n",
            "4750/4750 [==============================] - 1s 201us/step - loss: 0.8076 - categorical_accuracy: 0.6305\n",
            "Epoch 11/60\n",
            "4750/4750 [==============================] - 1s 199us/step - loss: 0.8068 - categorical_accuracy: 0.6520\n",
            "Epoch 12/60\n",
            "4750/4750 [==============================] - 1s 199us/step - loss: 0.8012 - categorical_accuracy: 0.6552\n",
            "Epoch 13/60\n",
            "4750/4750 [==============================] - 1s 199us/step - loss: 0.7932 - categorical_accuracy: 0.6547\n",
            "Epoch 14/60\n",
            "4750/4750 [==============================] - 1s 199us/step - loss: 0.7885 - categorical_accuracy: 0.6562\n",
            "Epoch 15/60\n",
            "4750/4750 [==============================] - 1s 201us/step - loss: 0.7810 - categorical_accuracy: 0.6608\n",
            "Epoch 16/60\n",
            "4750/4750 [==============================] - 1s 201us/step - loss: 0.7714 - categorical_accuracy: 0.6655\n",
            "Epoch 17/60\n",
            "4750/4750 [==============================] - 1s 201us/step - loss: 0.7657 - categorical_accuracy: 0.6726\n",
            "Epoch 18/60\n",
            "4750/4750 [==============================] - 1s 201us/step - loss: 0.7546 - categorical_accuracy: 0.6785\n",
            "Epoch 19/60\n",
            "4750/4750 [==============================] - 1s 200us/step - loss: 0.7435 - categorical_accuracy: 0.6787\n",
            "Epoch 20/60\n",
            "4750/4750 [==============================] - 1s 201us/step - loss: 0.7276 - categorical_accuracy: 0.6880\n",
            "Epoch 21/60\n",
            "4750/4750 [==============================] - 1s 200us/step - loss: 0.7108 - categorical_accuracy: 0.7023\n",
            "Epoch 22/60\n",
            "4750/4750 [==============================] - 1s 201us/step - loss: 0.6915 - categorical_accuracy: 0.7122\n",
            "Epoch 23/60\n",
            "4750/4750 [==============================] - 1s 201us/step - loss: 0.6705 - categorical_accuracy: 0.7171\n",
            "Epoch 24/60\n",
            "4750/4750 [==============================] - 1s 200us/step - loss: 0.6447 - categorical_accuracy: 0.7482\n",
            "Epoch 25/60\n",
            "4750/4750 [==============================] - 1s 201us/step - loss: 0.6225 - categorical_accuracy: 0.7587\n",
            "Epoch 26/60\n",
            "4750/4750 [==============================] - 1s 201us/step - loss: 0.6009 - categorical_accuracy: 0.7669\n",
            "Epoch 27/60\n",
            "4750/4750 [==============================] - 1s 201us/step - loss: 0.5922 - categorical_accuracy: 0.7625\n",
            "Epoch 28/60\n",
            "4750/4750 [==============================] - 1s 200us/step - loss: 0.6437 - categorical_accuracy: 0.7312\n",
            "Epoch 29/60\n",
            "4750/4750 [==============================] - 1s 201us/step - loss: 0.5552 - categorical_accuracy: 0.7823\n",
            "Epoch 30/60\n",
            "4750/4750 [==============================] - 1s 201us/step - loss: 0.5825 - categorical_accuracy: 0.7682\n",
            "Epoch 31/60\n",
            "4750/4750 [==============================] - 1s 201us/step - loss: 0.5214 - categorical_accuracy: 0.8002\n",
            "Epoch 32/60\n",
            "4750/4750 [==============================] - 1s 200us/step - loss: 0.5381 - categorical_accuracy: 0.7924\n",
            "Epoch 33/60\n",
            "4750/4750 [==============================] - 1s 201us/step - loss: 0.5042 - categorical_accuracy: 0.8067\n",
            "Epoch 34/60\n",
            "4750/4750 [==============================] - 1s 201us/step - loss: 0.5020 - categorical_accuracy: 0.8084\n",
            "Epoch 35/60\n",
            "4750/4750 [==============================] - 1s 201us/step - loss: 0.4877 - categorical_accuracy: 0.8135\n",
            "Epoch 36/60\n",
            "4750/4750 [==============================] - 1s 200us/step - loss: 0.4606 - categorical_accuracy: 0.8274\n",
            "Epoch 37/60\n",
            "4750/4750 [==============================] - 1s 202us/step - loss: 0.4607 - categorical_accuracy: 0.8335\n",
            "Epoch 38/60\n",
            "4750/4750 [==============================] - 1s 201us/step - loss: 0.4402 - categorical_accuracy: 0.8423\n",
            "Epoch 39/60\n",
            "4750/4750 [==============================] - 1s 202us/step - loss: 0.4244 - categorical_accuracy: 0.8434\n",
            "Epoch 40/60\n",
            "4750/4750 [==============================] - 1s 201us/step - loss: 0.4210 - categorical_accuracy: 0.8396\n",
            "Epoch 41/60\n",
            "4750/4750 [==============================] - 1s 201us/step - loss: 0.3977 - categorical_accuracy: 0.8566\n",
            "Epoch 42/60\n",
            "4750/4750 [==============================] - 1s 200us/step - loss: 0.3932 - categorical_accuracy: 0.8592\n",
            "Epoch 43/60\n",
            "4750/4750 [==============================] - 1s 199us/step - loss: 0.3729 - categorical_accuracy: 0.8669\n",
            "Epoch 44/60\n",
            "4750/4750 [==============================] - 1s 201us/step - loss: 0.3669 - categorical_accuracy: 0.8665\n",
            "Epoch 45/60\n",
            "4750/4750 [==============================] - 1s 201us/step - loss: 0.3511 - categorical_accuracy: 0.8754\n",
            "Epoch 46/60\n",
            "4750/4750 [==============================] - 1s 201us/step - loss: 0.3427 - categorical_accuracy: 0.8794\n",
            "Epoch 47/60\n",
            "4750/4750 [==============================] - 1s 200us/step - loss: 0.3310 - categorical_accuracy: 0.8825\n",
            "Epoch 48/60\n",
            "4750/4750 [==============================] - 1s 201us/step - loss: 0.3206 - categorical_accuracy: 0.8867\n",
            "Epoch 49/60\n",
            "4750/4750 [==============================] - 1s 201us/step - loss: 0.3097 - categorical_accuracy: 0.8874\n",
            "Epoch 50/60\n",
            "4750/4750 [==============================] - 1s 201us/step - loss: 0.3010 - categorical_accuracy: 0.8899\n",
            "Epoch 51/60\n",
            "4750/4750 [==============================] - 1s 201us/step - loss: 0.2893 - categorical_accuracy: 0.8931\n",
            "Epoch 52/60\n",
            "4750/4750 [==============================] - 1s 201us/step - loss: 0.2828 - categorical_accuracy: 0.8941\n",
            "Epoch 53/60\n",
            "4750/4750 [==============================] - 1s 201us/step - loss: 0.2668 - categorical_accuracy: 0.8994\n",
            "Epoch 54/60\n",
            "4750/4750 [==============================] - 1s 199us/step - loss: 0.2581 - categorical_accuracy: 0.9011\n",
            "Epoch 55/60\n",
            "4750/4750 [==============================] - 1s 201us/step - loss: 0.2527 - categorical_accuracy: 0.9008\n",
            "Epoch 56/60\n",
            "4750/4750 [==============================] - 1s 201us/step - loss: 0.2396 - categorical_accuracy: 0.9067\n",
            "Epoch 57/60\n",
            "4750/4750 [==============================] - 1s 200us/step - loss: 0.2272 - categorical_accuracy: 0.9114\n",
            "Epoch 58/60\n",
            "4750/4750 [==============================] - 1s 201us/step - loss: 0.2233 - categorical_accuracy: 0.9135\n",
            "Epoch 59/60\n",
            "4750/4750 [==============================] - 1s 201us/step - loss: 0.2177 - categorical_accuracy: 0.9198\n",
            "Epoch 60/60\n",
            "4750/4750 [==============================] - 1s 201us/step - loss: 0.2065 - categorical_accuracy: 0.9219\n"
          ],
          "name": "stdout"
        },
        {
          "output_type": "display_data",
          "data": {
            "image/png": "[encoded data removed]",
            "text/plain": [
              "<Figure size 432x288 with 1 Axes>"
            ]
          },
          "metadata": {
            "tags": []
          }
        }
      ]
    },
    {
      "cell_type": "code",
      "metadata": {
        "id": "3C35c1XKOIrK",
        "colab_type": "code",
        "outputId": "406e5bb7-0c64-42e9-caad-6862abebaf66",
        "colab": {
          "base_uri": "https://localhost:8080/",
          "height": 54
        }
      },
      "source": [
        "# Evaluate model\n",
        "loss_blstm, acc_blstm = model_blstm.evaluate(x_test_padded, categorical_y_test, verbose=1)\n",
        "print('Test Accuracy: %f' % (acc_blstm*100))"
      ],
      "execution_count": 45,
      "outputs": [
        {
          "output_type": "stream",
          "text": [
            "250/250 [==============================] - 0s 766us/step\n",
            "Test Accuracy: 76.000000\n"
          ],
          "name": "stdout"
        }
      ]
    },
    {
      "cell_type": "code",
      "metadata": {
        "id": "GsHCMx00R3jp",
        "colab_type": "code",
        "colab": {}
      },
      "source": [
        "# Get prediction label\n",
        "y_pred_blstm = model_blstm.predict_classes(x_test_padded)"
      ],
      "execution_count": 0,
      "outputs": []
    },
    {
      "cell_type": "markdown",
      "metadata": {
        "id": "lP0XiAh7RcNQ",
        "colab_type": "text"
      },
      "source": [
        "Confusion Matrix"
      ]
    },
    {
      "cell_type": "code",
      "metadata": {
        "id": "QzGifGAhRPdi",
        "colab_type": "code",
        "colab": {}
      },
      "source": [
        "y_test_label = []\n",
        "for counter in range(0, len(categorical_y_test)):\n",
        "  label = np.argmax(categorical_y_test[:][counter])\n",
        "  y_test_label.append(label)\n",
        "y_test_label = np.array(y_test_label)"
      ],
      "execution_count": 0,
      "outputs": []
    },
    {
      "cell_type": "code",
      "metadata": {
        "id": "FYuJ9HybRp2u",
        "colab_type": "code",
        "colab": {}
      },
      "source": [
        "from sklearn.metrics import confusion_matrix\n",
        "from sklearn.utils.multiclass import unique_labels\n",
        "\n",
        "def plot_confusion_matrix(y_true, y_pred, classes,\n",
        "                          normalize=False,\n",
        "                          title=None,\n",
        "                          cmap=plt.cm.Blues):\n",
        "    \"\"\"\n",
        "    This function prints and plots the confusion matrix.\n",
        "    Normalization can be applied by setting `normalize=True`.\n",
        "    \"\"\"\n",
        "    # Compute confusion matrix\n",
        "    cm = confusion_matrix(y_true, y_pred)\n",
        "    # Only use the labels that appear in the data\n",
        "    classes = classes[unique_labels(y_true, y_pred)]\n",
        "    if normalize:\n",
        "        cm = cm.astype('float') / cm.sum(axis=1)[:, np.newaxis]\n",
        "        print(\"Normalized confusion matrix\")\n",
        "    else:\n",
        "        print('Confusion matrix, without normalization')\n",
        "    \n",
        "    print(cm)\n",
        "\n",
        "    fig, ax = plt.subplots()\n",
        "    im = ax.imshow(cm, interpolation='nearest', cmap=cmap)\n",
        "    print(im)\n",
        "    ax.figure.colorbar(im, ax=ax)\n",
        "    # We want to show all ticks...\n",
        "    ax.set(xticks=np.arange(cm.shape[1]),\n",
        "           yticks=np.arange(cm.shape[0]),\n",
        "           # ... and label them with the respective list entries\n",
        "           xticklabels=classes, yticklabels=classes,\n",
        "           title=title,\n",
        "           ylabel='True label',\n",
        "           xlabel='Predicted label')\n",
        "\n",
        "    # Rotate the tick labels and set their alignment.\n",
        "    plt.setp(ax.get_xticklabels(), rotation=45, ha=\"right\",\n",
        "             rotation_mode=\"anchor\")\n",
        "\n",
        "    # Loop over data dimensions and create text annotations.\n",
        "    fmt = '.2f' if normalize else 'd'\n",
        "    thresh = cm.max() / 2.\n",
        "    for i in range(cm.shape[0]):\n",
        "        for j in range(cm.shape[1]):\n",
        "            ax.text(j, i, format(cm[i, j], fmt),\n",
        "                    ha=\"center\", va=\"center\",\n",
        "                    color=\"white\" if cm[i, j] > thresh else \"black\")\n",
        "    fig.tight_layout()\n",
        "    return ax\n",
        "\n",
        "class_names = np.array([0, 1, 2, -2, -1])\n",
        "np.set_printoptions(precision=2)"
      ],
      "execution_count": 0,
      "outputs": []
    },
    {
      "cell_type": "code",
      "metadata": {
        "id": "NSIPGYqHRsZC",
        "colab_type": "code",
        "outputId": "f0827d64-885d-4d93-c40e-0bb7e63909aa",
        "colab": {
          "base_uri": "https://localhost:8080/",
          "height": 762
        }
      },
      "source": [
        "# Plot non-normalized confusion matrix\n",
        "plot_confusion_matrix(y_test_label, y_pred_blstm, classes=class_names)\n",
        "# plt.savefig('cm-blstm.png')\n",
        "# Plot normalized confusion matrix\n",
        "plot_confusion_matrix(y_test_label, y_pred_blstm, classes=class_names, normalize=True)\n",
        "# plt.savefig('cm-blstm-normalized.png')\n",
        "plt.show()"
      ],
      "execution_count": 49,
      "outputs": [
        {
          "output_type": "stream",
          "text": [
            "Confusion matrix, without normalization\n",
            "[[  0   6   8]\n",
            " [  0 125  23]\n",
            " [  0  23  65]]\n",
            "AxesImage(54,36;334.8x217.44)\n",
            "Normalized confusion matrix\n",
            "[[0.   0.43 0.57]\n",
            " [0.   0.84 0.16]\n",
            " [0.   0.26 0.74]]\n",
            "AxesImage(54,36;334.8x217.44)\n"
          ],
          "name": "stdout"
        },
        {
          "output_type": "display_data",
          "data": {
            "image/png": "[encoded data removed]",
            "text/plain": [
              "<Figure size 432x288 with 2 Axes>"
            ]
          },
          "metadata": {
            "tags": []
          }
        },
        {
          "output_type": "display_data",
          "data": {
            "image/png": "[encoded data removed]",
            "text/plain": [
              "<Figure size 432x288 with 2 Axes>"
            ]
          },
          "metadata": {
            "tags": []
          }
        }
      ]
    },
    {
      "cell_type": "code",
      "metadata": {
        "id": "IdYe2RokRwV8",
        "colab_type": "code",
        "colab": {}
      },
      "source": [
        ""
      ],
      "execution_count": 0,
      "outputs": []
    }
  ]
}